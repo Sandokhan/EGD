{
 "cells": [
  {
   "cell_type": "code",
   "execution_count": 1,
   "metadata": {
    "collapsed": true,
    "ExecuteTime": {
     "start_time": "2023-04-15T11:55:26.725559Z",
     "end_time": "2023-04-15T11:55:34.176918Z"
    }
   },
   "outputs": [
    {
     "name": "stdout",
     "output_type": "stream",
     "text": [
      "23/04/15 11:55:31 WARN Utils: Your hostname, rhaydrick-6.local resolves to a loopback address: 127.0.0.1; using 10.227.159.211 instead (on interface en0)\n",
      "23/04/15 11:55:31 WARN Utils: Set SPARK_LOCAL_IP if you need to bind to another address\n"
     ]
    },
    {
     "name": "stderr",
     "output_type": "stream",
     "text": [
      "Setting default log level to \"WARN\".\n",
      "To adjust logging level use sc.setLogLevel(newLevel). For SparkR, use setLogLevel(newLevel).\n"
     ]
    },
    {
     "name": "stdout",
     "output_type": "stream",
     "text": [
      "23/04/15 11:55:32 WARN NativeCodeLoader: Unable to load native-hadoop library for your platform... using builtin-java classes where applicable\n"
     ]
    }
   ],
   "source": [
    "import numpy as np\n",
    "import matplotlib.pyplot as plt\n",
    "import pyspark.sql.functions as f\n",
    "from pyspark.sql import SparkSession\n",
    "\n",
    "spark = SparkSession \\\n",
    "    .builder \\\n",
    "    .master(\"local\") \\\n",
    "    .appName(\"xpto\") \\\n",
    "    .getOrCreate()\n",
    "sc = spark.sparkContext"
   ]
  },
  {
   "cell_type": "code",
   "execution_count": 2,
   "outputs": [],
   "source": [
    "text_file = sc.textFile(\"datasets/shakespeare.txt\")"
   ],
   "metadata": {
    "collapsed": false,
    "ExecuteTime": {
     "start_time": "2023-04-15T11:55:34.177471Z",
     "end_time": "2023-04-15T11:55:35.443594Z"
    }
   }
  },
  {
   "cell_type": "code",
   "execution_count": 3,
   "outputs": [
    {
     "name": "stderr",
     "output_type": "stream",
     "text": [
      "                                                                                \r"
     ]
    }
   ],
   "source": [
    "df = text_file.flatMap(lambda line: line.split(' '))\\\n",
    "    .map(lambda word: (word, 1))\\\n",
    "    .reduceByKey(lambda w1, w2: w1 + w2) \\\n",
    "    .collect()"
   ],
   "metadata": {
    "collapsed": false,
    "ExecuteTime": {
     "start_time": "2023-04-15T11:55:35.446339Z",
     "end_time": "2023-04-15T11:55:37.547064Z"
    }
   }
  },
  {
   "cell_type": "code",
   "execution_count": 4,
   "outputs": [
    {
     "data": {
      "text/plain": "[('the', 611),\n ('I', 546),\n ('and', 469),\n ('to', 432),\n ('a', 398),\n ('of', 361),\n ('my', 315),\n ('is', 292),\n ('in', 280),\n ('that', 252)]"
     },
     "execution_count": 4,
     "metadata": {},
     "output_type": "execute_result"
    }
   ],
   "source": [
    "df_sorted = sorted(df, key=lambda x: x[1], reverse=True)\n",
    "df_sorted[:10]"
   ],
   "metadata": {
    "collapsed": false,
    "ExecuteTime": {
     "start_time": "2023-04-15T11:55:37.551515Z",
     "end_time": "2023-04-15T11:55:37.554412Z"
    }
   }
  },
  {
   "cell_type": "markdown",
   "source": [
    "# Fire departament"
   ],
   "metadata": {
    "collapsed": false
   }
  },
  {
   "cell_type": "code",
   "execution_count": 5,
   "outputs": [
    {
     "name": "stderr",
     "output_type": "stream",
     "text": [
      "[Stage 3:>                                                          (0 + 1) / 1]\r"
     ]
    },
    {
     "name": "stdout",
     "output_type": "stream",
     "text": [
      "root\n",
      " |-- CallNumber: integer (nullable = true)\n",
      " |-- UnitID: string (nullable = true)\n",
      " |-- IncidentNumber: integer (nullable = true)\n",
      " |-- CallType: string (nullable = true)\n",
      " |-- CallDate: string (nullable = true)\n",
      " |-- WatchDate: string (nullable = true)\n",
      " |-- CallFinalDisposition: string (nullable = true)\n",
      " |-- AvailableDtTm: string (nullable = true)\n",
      " |-- Address: string (nullable = true)\n",
      " |-- City: string (nullable = true)\n",
      " |-- Zipcode: integer (nullable = true)\n",
      " |-- Battalion: string (nullable = true)\n",
      " |-- StationArea: string (nullable = true)\n",
      " |-- Box: string (nullable = true)\n",
      " |-- OriginalPriority: string (nullable = true)\n",
      " |-- Priority: string (nullable = true)\n",
      " |-- FinalPriority: integer (nullable = true)\n",
      " |-- ALSUnit: boolean (nullable = true)\n",
      " |-- CallTypeGroup: string (nullable = true)\n",
      " |-- NumAlarms: integer (nullable = true)\n",
      " |-- UnitType: string (nullable = true)\n",
      " |-- UnitSequenceInCallDispatch: integer (nullable = true)\n",
      " |-- FirePreventionDistrict: string (nullable = true)\n",
      " |-- SupervisorDistrict: string (nullable = true)\n",
      " |-- Neighborhood: string (nullable = true)\n",
      " |-- Location: string (nullable = true)\n",
      " |-- RowID: string (nullable = true)\n",
      " |-- Delay: double (nullable = true)\n",
      "\n"
     ]
    },
    {
     "name": "stderr",
     "output_type": "stream",
     "text": [
      "                                                                                \r"
     ]
    }
   ],
   "source": [
    "# Load file\n",
    "df_fire = spark.read.csv('datasets/sf-fire-calls.csv', header=True, inferSchema=True)\n",
    "#Print Schema\n",
    "df_fire.printSchema()"
   ],
   "metadata": {
    "collapsed": false,
    "ExecuteTime": {
     "start_time": "2023-04-15T11:55:37.556969Z",
     "end_time": "2023-04-15T11:55:42.805394Z"
    }
   }
  },
  {
   "cell_type": "code",
   "execution_count": 6,
   "outputs": [
    {
     "name": "stdout",
     "output_type": "stream",
     "text": [
      "23/04/15 11:55:42 WARN package: Truncated the string representation of a plan since it was too large. This behavior can be adjusted by setting 'spark.sql.debug.maxToStringFields'.\n"
     ]
    },
    {
     "data": {
      "text/plain": "[Row(CallNumber=20110016, UnitID='T13', IncidentNumber=2003235, CallType='Structure Fire', CallDate='01/11/2002', WatchDate='01/10/2002', CallFinalDisposition='Other', AvailableDtTm='01/11/2002 01:51:44 AM', Address='2000 Block of CALIFORNIA ST', City='SF', Zipcode=94109, Battalion='B04', StationArea='38', Box='3362', OriginalPriority='3', Priority='3', FinalPriority=3, ALSUnit=False, CallTypeGroup=None, NumAlarms=1, UnitType='TRUCK', UnitSequenceInCallDispatch=2, FirePreventionDistrict='4', SupervisorDistrict='5', Neighborhood='Pacific Heights', Location='(37.7895840679362, -122.428071912459)', RowID='020110016-T13', Delay=2.95),\n Row(CallNumber=20110022, UnitID='M17', IncidentNumber=2003241, CallType='Medical Incident', CallDate='01/11/2002', WatchDate='01/10/2002', CallFinalDisposition='Other', AvailableDtTm='01/11/2002 03:01:18 AM', Address='0 Block of SILVERVIEW DR', City='SF', Zipcode=94124, Battalion='B10', StationArea='42', Box='6495', OriginalPriority='3', Priority='3', FinalPriority=3, ALSUnit=True, CallTypeGroup=None, NumAlarms=1, UnitType='MEDIC', UnitSequenceInCallDispatch=1, FirePreventionDistrict='10', SupervisorDistrict='10', Neighborhood='Bayview Hunters Point', Location='(37.7337623673897, -122.396113802632)', RowID='020110022-M17', Delay=4.7),\n Row(CallNumber=20110023, UnitID='M41', IncidentNumber=2003242, CallType='Medical Incident', CallDate='01/11/2002', WatchDate='01/10/2002', CallFinalDisposition='Other', AvailableDtTm='01/11/2002 02:39:50 AM', Address='MARKET ST/MCALLISTER ST', City='SF', Zipcode=94102, Battalion='B03', StationArea='01', Box='1455', OriginalPriority='3', Priority='3', FinalPriority=3, ALSUnit=True, CallTypeGroup=None, NumAlarms=1, UnitType='MEDIC', UnitSequenceInCallDispatch=2, FirePreventionDistrict='3', SupervisorDistrict='6', Neighborhood='Tenderloin', Location='(37.7811772186856, -122.411699931232)', RowID='020110023-M41', Delay=2.4333334),\n Row(CallNumber=20110032, UnitID='E11', IncidentNumber=2003250, CallType='Vehicle Fire', CallDate='01/11/2002', WatchDate='01/10/2002', CallFinalDisposition='Other', AvailableDtTm='01/11/2002 04:16:46 AM', Address='APPLETON AV/MISSION ST', City='SF', Zipcode=94110, Battalion='B06', StationArea='32', Box='5626', OriginalPriority='3', Priority='3', FinalPriority=3, ALSUnit=False, CallTypeGroup=None, NumAlarms=1, UnitType='ENGINE', UnitSequenceInCallDispatch=1, FirePreventionDistrict='6', SupervisorDistrict='9', Neighborhood='Bernal Heights', Location='(37.7388432849018, -122.423948785199)', RowID='020110032-E11', Delay=1.5),\n Row(CallNumber=20110043, UnitID='B04', IncidentNumber=2003259, CallType='Alarms', CallDate='01/11/2002', WatchDate='01/10/2002', CallFinalDisposition='Other', AvailableDtTm='01/11/2002 06:01:58 AM', Address='1400 Block of SUTTER ST', City='SF', Zipcode=94109, Battalion='B04', StationArea='03', Box='3223', OriginalPriority='3', Priority='3', FinalPriority=3, ALSUnit=False, CallTypeGroup=None, NumAlarms=1, UnitType='CHIEF', UnitSequenceInCallDispatch=2, FirePreventionDistrict='4', SupervisorDistrict='2', Neighborhood='Western Addition', Location='(37.7872890372638, -122.424236212664)', RowID='020110043-B04', Delay=3.4833333)]"
     },
     "execution_count": 6,
     "metadata": {},
     "output_type": "execute_result"
    }
   ],
   "source": [
    "# Showing first 5 rows\n",
    "df_fire.take(5)"
   ],
   "metadata": {
    "collapsed": false,
    "ExecuteTime": {
     "start_time": "2023-04-15T11:55:42.807310Z",
     "end_time": "2023-04-15T11:55:43.129088Z"
    }
   }
  },
  {
   "cell_type": "code",
   "execution_count": 7,
   "outputs": [
    {
     "name": "stderr",
     "output_type": "stream",
     "text": [
      "[Stage 5:>                                                          (0 + 1) / 1]\r"
     ]
    },
    {
     "name": "stdout",
     "output_type": "stream",
     "text": [
      "+----------------+\n",
      "|DistinctCallType|\n",
      "+----------------+\n",
      "|              30|\n",
      "+----------------+\n",
      "\n"
     ]
    },
    {
     "name": "stderr",
     "output_type": "stream",
     "text": [
      "                                                                                \r"
     ]
    }
   ],
   "source": [
    "# Compute the number of distinct types of calls\n",
    "df_fire.agg(f.countDistinct(\"CallType\").alias(\"DistinctCallType\")).show()\n"
   ],
   "metadata": {
    "collapsed": false,
    "ExecuteTime": {
     "start_time": "2023-04-15T11:55:43.130753Z",
     "end_time": "2023-04-15T11:55:44.740424Z"
    }
   }
  },
  {
   "cell_type": "code",
   "execution_count": 8,
   "outputs": [
    {
     "name": "stdout",
     "output_type": "stream",
     "text": [
      "+-----------------------------------+\n",
      "|                           CallType|\n",
      "+-----------------------------------+\n",
      "|        Elevator / Escalator Rescue|\n",
      "|                        Marine Fire|\n",
      "|                 Aircraft Emergency|\n",
      "|Confined Space / Structure Collapse|\n",
      "|                     Administrative|\n",
      "|                             Alarms|\n",
      "|           Odor (Strange / Unknown)|\n",
      "|      Citizen Assist / Service Call|\n",
      "|                             HazMat|\n",
      "|             Watercraft in Distress|\n",
      "+-----------------------------------+\n",
      "only showing top 10 rows\n",
      "\n"
     ]
    }
   ],
   "source": [
    "# List the distinct types of calls\n",
    "df_fire.select(f.col(\"CallType\")).distinct().show(10, truncate=50)"
   ],
   "metadata": {
    "collapsed": false,
    "ExecuteTime": {
     "start_time": "2023-04-15T11:55:44.741012Z",
     "end_time": "2023-04-15T11:55:45.453449Z"
    }
   }
  },
  {
   "cell_type": "code",
   "execution_count": 9,
   "outputs": [
    {
     "name": "stdout",
     "output_type": "stream",
     "text": [
      "root\n",
      " |-- CallNumber: integer (nullable = true)\n",
      " |-- UnitID: string (nullable = true)\n",
      " |-- IncidentNumber: integer (nullable = true)\n",
      " |-- CallType: string (nullable = true)\n",
      " |-- CallDate: string (nullable = true)\n",
      " |-- WatchDate: string (nullable = true)\n",
      " |-- CallFinalDisposition: string (nullable = true)\n",
      " |-- AvailableDtTm: string (nullable = true)\n",
      " |-- Address: string (nullable = true)\n",
      " |-- City: string (nullable = true)\n",
      " |-- Zipcode: integer (nullable = true)\n",
      " |-- Battalion: string (nullable = true)\n",
      " |-- StationArea: string (nullable = true)\n",
      " |-- Box: string (nullable = true)\n",
      " |-- OriginalPriority: string (nullable = true)\n",
      " |-- Priority: string (nullable = true)\n",
      " |-- FinalPriority: integer (nullable = true)\n",
      " |-- ALSUnit: boolean (nullable = true)\n",
      " |-- CallTypeGroup: string (nullable = true)\n",
      " |-- NumAlarms: integer (nullable = true)\n",
      " |-- UnitType: string (nullable = true)\n",
      " |-- UnitSequenceInCallDispatch: integer (nullable = true)\n",
      " |-- FirePreventionDistrict: string (nullable = true)\n",
      " |-- SupervisorDistrict: string (nullable = true)\n",
      " |-- Neighborhood: string (nullable = true)\n",
      " |-- Location: string (nullable = true)\n",
      " |-- RowID: string (nullable = true)\n",
      " |-- ResponseDelayinMins: double (nullable = true)\n",
      "\n"
     ]
    }
   ],
   "source": [
    "# Change the name of the column Delay to ResponseDelayinMins\n",
    "df_fire = df_fire.withColumnRenamed('Delay', 'ResponseDelayinMins')\n",
    "df_fire.printSchema()"
   ],
   "metadata": {
    "collapsed": false,
    "ExecuteTime": {
     "start_time": "2023-04-15T11:55:45.455036Z",
     "end_time": "2023-04-15T11:55:45.494705Z"
    }
   }
  },
  {
   "cell_type": "code",
   "execution_count": 10,
   "outputs": [
    {
     "name": "stdout",
     "output_type": "stream",
     "text": [
      "+----------------+-------------------+\n",
      "|        CallType|ResponseDelayinMins|\n",
      "+----------------+-------------------+\n",
      "|   Assist Police|          628.61664|\n",
      "|  Structure Fire|          751.93335|\n",
      "|  Structure Fire|          949.11664|\n",
      "|  Structure Fire|             931.45|\n",
      "|          Alarms|            1844.55|\n",
      "|  Structure Fire|          535.93335|\n",
      "|  Structure Fire|             734.05|\n",
      "|Medical Incident|              721.4|\n",
      "|  Structure Fire|          1370.2333|\n",
      "+----------------+-------------------+\n",
      "\n"
     ]
    }
   ],
   "source": [
    "# List the calltypes and ResponseDelayinMins of the calls that were longer than 500 minutes\n",
    "df_fire.filter(f.col(\"ResponseDelayinMins\") > 500).select(\"CallType\", \"ResponseDelayinMins\").show()"
   ],
   "metadata": {
    "collapsed": false,
    "ExecuteTime": {
     "start_time": "2023-04-15T11:55:45.476005Z",
     "end_time": "2023-04-15T11:55:46.238689Z"
    }
   }
  },
  {
   "cell_type": "code",
   "execution_count": 11,
   "outputs": [
    {
     "name": "stdout",
     "output_type": "stream",
     "text": [
      "root\n",
      " |-- CallNumber: integer (nullable = true)\n",
      " |-- UnitID: string (nullable = true)\n",
      " |-- IncidentNumber: integer (nullable = true)\n",
      " |-- CallType: string (nullable = true)\n",
      " |-- CallFinalDisposition: string (nullable = true)\n",
      " |-- Address: string (nullable = true)\n",
      " |-- City: string (nullable = true)\n",
      " |-- Zipcode: integer (nullable = true)\n",
      " |-- Battalion: string (nullable = true)\n",
      " |-- StationArea: string (nullable = true)\n",
      " |-- Box: string (nullable = true)\n",
      " |-- OriginalPriority: string (nullable = true)\n",
      " |-- Priority: string (nullable = true)\n",
      " |-- FinalPriority: integer (nullable = true)\n",
      " |-- ALSUnit: boolean (nullable = true)\n",
      " |-- CallTypeGroup: string (nullable = true)\n",
      " |-- NumAlarms: integer (nullable = true)\n",
      " |-- UnitType: string (nullable = true)\n",
      " |-- UnitSequenceInCallDispatch: integer (nullable = true)\n",
      " |-- FirePreventionDistrict: string (nullable = true)\n",
      " |-- SupervisorDistrict: string (nullable = true)\n",
      " |-- Neighborhood: string (nullable = true)\n",
      " |-- Location: string (nullable = true)\n",
      " |-- RowID: string (nullable = true)\n",
      " |-- ResponseDelayinMins: double (nullable = true)\n",
      " |-- AvailableDtTS: timestamp (nullable = true)\n",
      " |-- OnWatchDate: date (nullable = true)\n",
      " |-- IncidentDate: date (nullable = true)\n",
      "\n"
     ]
    }
   ],
   "source": [
    "# Convert date as string in the dataset to Date types\n",
    "# Use date/timestamp functions from spark.sql.functions: to_timestamp() and to_date()\n",
    "# Drop origin columns\n",
    "# CallDate (string) -> IncidentDate (“MM/dd/yyyy”)\n",
    "# WatchDate (string) -> OnWatchDate (“MM/dd/yyyy”)\n",
    "# AvailableDtTm (string) -> AvailableDtTS (\"MM/dd/yyyy hh:mm:ss a\")\n",
    "\n",
    "df_fire_2 = df_fire.withColumn(\"AvailableDtTS\", f.to_timestamp(\"AvailableDtTm\", 'MM/dd/yyyy hh:mm:ss a'))\\\n",
    "    .withColumn(\"OnWatchDate\", f.to_date(\"WatchDate\", 'MM/dd/yyyy'))\\\n",
    "    .withColumn(\"IncidentDate\",f.to_date(\"CallDate\", 'MM/dd/yyyy')).drop(\"AvailableDtTm\", \"WatchDate\", \"CallDate\")\n",
    "\n",
    "# Print the schema of the new dataframe\n",
    "df_fire_2.printSchema()"
   ],
   "metadata": {
    "collapsed": false,
    "ExecuteTime": {
     "start_time": "2023-04-15T11:55:46.241776Z",
     "end_time": "2023-04-15T11:55:46.407572Z"
    }
   }
  },
  {
   "cell_type": "code",
   "execution_count": 12,
   "outputs": [
    {
     "name": "stdout",
     "output_type": "stream",
     "text": [
      "+------------+-----------+-------------------+\n",
      "|IncidentDate|OnWatchDate|      AvailableDtTS|\n",
      "+------------+-----------+-------------------+\n",
      "|  2002-01-11| 2002-01-10|2002-01-11 01:51:44|\n",
      "|  2002-01-11| 2002-01-10|2002-01-11 03:01:18|\n",
      "|  2002-01-11| 2002-01-10|2002-01-11 02:39:50|\n",
      "|  2002-01-11| 2002-01-10|2002-01-11 04:16:46|\n",
      "|  2002-01-11| 2002-01-10|2002-01-11 06:01:58|\n",
      "+------------+-----------+-------------------+\n",
      "only showing top 5 rows\n",
      "\n"
     ]
    }
   ],
   "source": [
    "# Show the first 5 records of each dataframe for these columns\n",
    "df_fire_2.select(\"IncidentDate\", \"OnWatchDate\", \"AvailableDtTS\").show(5)"
   ],
   "metadata": {
    "collapsed": false,
    "ExecuteTime": {
     "start_time": "2023-04-15T11:55:46.410077Z",
     "end_time": "2023-04-15T11:55:46.930867Z"
    }
   }
  },
  {
   "cell_type": "code",
   "execution_count": 13,
   "outputs": [
    {
     "name": "stdout",
     "output_type": "stream",
     "text": [
      "+----------+----------+----------------------+\n",
      "|  CallDate| WatchDate|         AvailableDtTm|\n",
      "+----------+----------+----------------------+\n",
      "|01/11/2002|01/10/2002|01/11/2002 01:51:44 AM|\n",
      "|01/11/2002|01/10/2002|01/11/2002 03:01:18 AM|\n",
      "|01/11/2002|01/10/2002|01/11/2002 02:39:50 AM|\n",
      "|01/11/2002|01/10/2002|01/11/2002 04:16:46 AM|\n",
      "|01/11/2002|01/10/2002|01/11/2002 06:01:58 AM|\n",
      "+----------+----------+----------------------+\n",
      "only showing top 5 rows\n",
      "\n"
     ]
    }
   ],
   "source": [
    "df_fire.select(\"CallDate\", \"WatchDate\", \"AvailableDtTm\").show(5, truncate=30)"
   ],
   "metadata": {
    "collapsed": false,
    "ExecuteTime": {
     "start_time": "2023-04-15T11:55:46.931247Z",
     "end_time": "2023-04-15T11:55:47.127097Z"
    }
   }
  },
  {
   "cell_type": "code",
   "execution_count": 14,
   "outputs": [
    {
     "name": "stderr",
     "output_type": "stream",
     "text": [
      "[Stage 17:>                                                         (0 + 1) / 1]\r"
     ]
    },
    {
     "name": "stdout",
     "output_type": "stream",
     "text": [
      "+-------------+\n",
      "|AmountOfyears|\n",
      "+-------------+\n",
      "|           19|\n",
      "+-------------+\n",
      "\n"
     ]
    },
    {
     "name": "stderr",
     "output_type": "stream",
     "text": [
      "                                                                                \r"
     ]
    }
   ],
   "source": [
    "# How many years of calls are in the dateset?\n",
    "#df_fire_2.withColumn(\"Year\", f.year(\"IncidentDate\")).agg(f.countDistinct(\"Year\").alias(\"AmountOfyears\")).show()\n",
    "df_fire_2 = df_fire_2.withColumn(\"Year\", f.year(\"IncidentDate\"))\n",
    "df_fire_2.agg(f.countDistinct(\"Year\").alias(\"AmountOfyears\")).show()"
   ],
   "metadata": {
    "collapsed": false,
    "ExecuteTime": {
     "start_time": "2023-04-15T11:55:47.131461Z",
     "end_time": "2023-04-15T11:55:48.574224Z"
    }
   }
  },
  {
   "cell_type": "code",
   "execution_count": 15,
   "outputs": [
    {
     "name": "stdout",
     "output_type": "stream",
     "text": [
      "+----+-----+\n",
      "|Year|count|\n",
      "+----+-----+\n",
      "|2000| 5459|\n",
      "|2001| 7713|\n",
      "|2002| 8090|\n",
      "|2003| 8499|\n",
      "|2004| 8283|\n",
      "|2005| 8282|\n",
      "|2006| 8174|\n",
      "|2007| 8255|\n",
      "|2008| 8869|\n",
      "|2009| 8789|\n",
      "|2010| 9341|\n",
      "|2011| 9735|\n",
      "|2012| 9674|\n",
      "|2013|10020|\n",
      "|2014|10775|\n",
      "|2015|11458|\n",
      "|2016|11609|\n",
      "|2017|12135|\n",
      "|2018|10136|\n",
      "+----+-----+\n",
      "\n"
     ]
    }
   ],
   "source": [
    "# How many years of calls are in the dateset, and how many calls per year?\n",
    "df_fire_2.groupby(f.col(\"Year\")).count().orderBy(\"Year\").show()"
   ],
   "metadata": {
    "collapsed": false,
    "ExecuteTime": {
     "start_time": "2023-04-15T11:55:48.575836Z",
     "end_time": "2023-04-15T11:55:49.663438Z"
    }
   }
  },
  {
   "cell_type": "code",
   "execution_count": 16,
   "outputs": [
    {
     "name": "stdout",
     "output_type": "stream",
     "text": [
      "+----+-----+\n",
      "|Year|count|\n",
      "+----+-----+\n",
      "|2018|  199|\n",
      "+----+-----+\n",
      "\n"
     ]
    }
   ],
   "source": [
    "# How many calls occurred in November 2018?\n",
    "df_fire_2.groupby(f.month(\"IncidentDate\").alias('Nov'), f.col(\"Year\").alias('Year'))\\\n",
    "    .count().where('Nov == 11').where('Year == 2018')\\\n",
    "    .select(f.col(\"Year\"), f.col(\"count\")).show()"
   ],
   "metadata": {
    "collapsed": false,
    "ExecuteTime": {
     "start_time": "2023-04-15T11:55:49.663340Z",
     "end_time": "2023-04-15T11:55:50.657834Z"
    }
   }
  },
  {
   "cell_type": "code",
   "execution_count": 17,
   "outputs": [
    {
     "name": "stdout",
     "output_type": "stream",
     "text": [
      "+----+-----+\n",
      "|Year|count|\n",
      "+----+-----+\n",
      "|2018|  199|\n",
      "|2017|  975|\n",
      "|2016|  971|\n",
      "|2015|  930|\n",
      "|2014|  897|\n",
      "|2013|  853|\n",
      "|2012|  814|\n",
      "|2011|  784|\n",
      "|2010|  710|\n",
      "|2009|  725|\n",
      "|2008|  738|\n",
      "|2007|  689|\n",
      "|2006|  701|\n",
      "|2005|  674|\n",
      "|2004|  623|\n",
      "|2003|  683|\n",
      "|2002|  683|\n",
      "|2001|  619|\n",
      "|2000|  595|\n",
      "+----+-----+\n",
      "\n"
     ]
    }
   ],
   "source": [
    "# How many calls occurred in November of every year?\n",
    "df_fire_2.groupby(f.month(\"IncidentDate\").alias('Nov'), f.col(\"Year\").alias('Year')) \\\n",
    "    .count().where('Nov == 11') \\\n",
    "    .select(f.col(\"Year\"), f.col(\"count\")).orderBy(f.col(\"Year\"), ascending = False).show()"
   ],
   "metadata": {
    "collapsed": false,
    "ExecuteTime": {
     "start_time": "2023-04-15T11:55:50.659337Z",
     "end_time": "2023-04-15T11:55:51.643732Z"
    }
   }
  },
  {
   "cell_type": "code",
   "execution_count": 18,
   "outputs": [
    {
     "name": "stdout",
     "output_type": "stream",
     "text": [
      "+-------------------------------+------+\n",
      "|                       CallType| count|\n",
      "+-------------------------------+------+\n",
      "|               Medical Incident|113794|\n",
      "|                 Structure Fire| 23319|\n",
      "|                         Alarms| 19406|\n",
      "|              Traffic Collision|  7013|\n",
      "|  Citizen Assist / Service Call|  2524|\n",
      "|                          Other|  2166|\n",
      "|                   Outside Fire|  2094|\n",
      "|                   Vehicle Fire|   854|\n",
      "|Gas Leak (Natural and LP Gases)|   764|\n",
      "|                   Water Rescue|   755|\n",
      "+-------------------------------+------+\n",
      "only showing top 10 rows\n",
      "\n"
     ]
    }
   ],
   "source": [
    "# List the most common types of fire calls with the count of each call type.\n",
    "df_fire_2.groupby(f.col(\"CallType\")).count().orderBy(f.col(\"count\"), ascending=False ).show(10, truncate=50)"
   ],
   "metadata": {
    "collapsed": false,
    "ExecuteTime": {
     "start_time": "2023-04-15T11:55:51.644956Z",
     "end_time": "2023-04-15T11:55:52.348922Z"
    }
   }
  },
  {
   "cell_type": "code",
   "execution_count": 19,
   "outputs": [
    {
     "name": "stdout",
     "output_type": "stream",
     "text": [
      "+--------------+------------------------+------------------------+------------------------+\n",
      "|sum(NumAlarms)|avg(ResponseDelayinMins)|min(ResponseDelayinMins)|max(ResponseDelayinMins)|\n",
      "+--------------+------------------------+------------------------+------------------------+\n",
      "|        176170|      3.8923641541750413|             0.016666668|                 1844.55|\n",
      "+--------------+------------------------+------------------------+------------------------+\n",
      "\n"
     ]
    }
   ],
   "source": [
    "# Compute the average response time, and the minimum and maximum response times of all fire calls\n",
    "df_fire_2.agg(\n",
    "    f.sum(f.col(\"NumAlarms\")),\n",
    "    f.avg(f.col(\"ResponseDelayinMins\")),\n",
    "    f.min(f.col(\"ResponseDelayinMins\")),\n",
    "    f.max(f.col(\"ResponseDelayinMins\"))\n",
    ").show()"
   ],
   "metadata": {
    "collapsed": false,
    "ExecuteTime": {
     "start_time": "2023-04-15T11:55:52.351366Z",
     "end_time": "2023-04-15T11:55:53.160492Z"
    }
   }
  },
  {
   "cell_type": "code",
   "execution_count": 20,
   "outputs": [],
   "source": [
    "# Did the number of fires in Xmas increased or decreased over time?\n",
    "\n",
    "xmas = df_fire_2.withColumn(\"Day\", f.dayofmonth(\"IncidentDate\")).withColumn(\"Month\", f.month(\"IncidentDate\"))"
   ],
   "metadata": {
    "collapsed": false,
    "ExecuteTime": {
     "start_time": "2023-04-15T11:55:53.162711Z",
     "end_time": "2023-04-15T11:55:53.233731Z"
    }
   }
  },
  {
   "cell_type": "code",
   "execution_count": 21,
   "outputs": [
    {
     "data": {
      "text/plain": "Row(CallNumber=20110016, UnitID='T13', IncidentNumber=2003235, CallType='Structure Fire', CallFinalDisposition='Other', Address='2000 Block of CALIFORNIA ST', City='SF', Zipcode=94109, Battalion='B04', StationArea='38', Box='3362', OriginalPriority='3', Priority='3', FinalPriority=3, ALSUnit=False, CallTypeGroup=None, NumAlarms=1, UnitType='TRUCK', UnitSequenceInCallDispatch=2, FirePreventionDistrict='4', SupervisorDistrict='5', Neighborhood='Pacific Heights', Location='(37.7895840679362, -122.428071912459)', RowID='020110016-T13', ResponseDelayinMins=2.95, AvailableDtTS=datetime.datetime(2002, 1, 11, 1, 51, 44), OnWatchDate=datetime.date(2002, 1, 10), IncidentDate=datetime.date(2002, 1, 11), Year=2002, Day=11, Month=1)"
     },
     "execution_count": 21,
     "metadata": {},
     "output_type": "execute_result"
    }
   ],
   "source": [
    "xmas.head()"
   ],
   "metadata": {
    "collapsed": false,
    "ExecuteTime": {
     "start_time": "2023-04-15T11:55:53.235745Z",
     "end_time": "2023-04-15T11:55:53.477721Z"
    }
   }
  },
  {
   "cell_type": "code",
   "execution_count": 22,
   "outputs": [
    {
     "name": "stdout",
     "output_type": "stream",
     "text": [
      "+----+-----+\n",
      "|Year|count|\n",
      "+----+-----+\n",
      "|2000|   22|\n",
      "|2001|   18|\n",
      "|2002|   19|\n",
      "|2003|   17|\n",
      "|2004|   29|\n",
      "|2005|   25|\n",
      "|2006|   25|\n",
      "|2007|   19|\n",
      "|2008|   27|\n",
      "|2009|   21|\n",
      "|2010|   37|\n",
      "|2011|   21|\n",
      "|2012|   23|\n",
      "|2013|   31|\n",
      "|2014|   24|\n",
      "|2015|   39|\n",
      "|2016|   30|\n",
      "|2017|   30|\n",
      "+----+-----+\n",
      "\n"
     ]
    }
   ],
   "source": [
    "# xmas.select(f.col('Year'), f.col('Month'), f.col('Day')).where('Month == 12').where('Day == 25').count().show()\n",
    "xmas.where(f.col('Month') == 12).where(f.col('Day') == 25)\\\n",
    "    .groupby('Year')\\\n",
    "    .count()\\\n",
    "    .orderBy('Year').show()"
   ],
   "metadata": {
    "collapsed": false,
    "ExecuteTime": {
     "start_time": "2023-04-15T11:55:53.478984Z",
     "end_time": "2023-04-15T11:55:54.398119Z"
    }
   }
  },
  {
   "cell_type": "code",
   "execution_count": 23,
   "outputs": [
    {
     "data": {
      "text/plain": "<Figure size 1200x800 with 1 Axes>",
      "image/png": "[encoded data removed]"
     },
     "metadata": {},
     "output_type": "display_data"
    }
   ],
   "source": [
    "xmas_by_year = (\n",
    "    xmas.where(f.col('Month') == 12)\n",
    "    .where(f.col('Day') == 25)\n",
    "    .groupby('Year')\n",
    "    .count()\n",
    "    .orderBy('Year')\n",
    ")\n",
    "\n",
    "# extract the data as a list of tuples\n",
    "data = xmas_by_year.collect()\n",
    "\n",
    "\n",
    "years = [int(row[0]) for row in data]\n",
    "counts = [row[1] for row in data]\n",
    "\n",
    "plt.figure(figsize=(12, 8))\n",
    "plt.bar(years, counts, label='Incidents')\n",
    "\n",
    "# add a tendency line\n",
    "z = np.polyfit(years, counts, 1)\n",
    "p = np.poly1d(z)\n",
    "\n",
    "plt.plot(years, p(years), 'r-', label='Tendency')\n",
    "\n",
    "plt.xlabel('Year')\n",
    "plt.ylabel('Count')\n",
    "plt.title('Number of Incidents on Christmas Day by Year')\n",
    "plt.legend()\n",
    "plt.show()"
   ],
   "metadata": {
    "collapsed": false,
    "ExecuteTime": {
     "start_time": "2023-04-15T11:55:54.401481Z",
     "end_time": "2023-04-15T11:55:55.674568Z"
    }
   }
  },
  {
   "cell_type": "code",
   "execution_count": 23,
   "outputs": [],
   "source": [],
   "metadata": {
    "collapsed": false,
    "ExecuteTime": {
     "start_time": "2023-04-15T11:55:55.674641Z",
     "end_time": "2023-04-15T11:55:55.676159Z"
    }
   }
  }
 ],
 "metadata": {
  "kernelspec": {
   "display_name": "Python 3",
   "language": "python",
   "name": "python3"
  },
  "language_info": {
   "codemirror_mode": {
    "name": "ipython",
    "version": 2
   },
   "file_extension": ".py",
   "mimetype": "text/x-python",
   "name": "python",
   "nbconvert_exporter": "python",
   "pygments_lexer": "ipython2",
   "version": "2.7.6"
  }
 },
 "nbformat": 4,
 "nbformat_minor": 0
}
